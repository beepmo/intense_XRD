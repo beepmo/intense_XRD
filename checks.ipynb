{
 "cells": [
  {
   "cell_type": "code",
   "execution_count": 1,
   "outputs": [],
   "source": [
    "import numpy as np"
   ],
   "metadata": {
    "collapsed": false
   }
  },
  {
   "cell_type": "code",
   "execution_count": 2,
   "outputs": [
    {
     "name": "stdout",
     "output_type": "stream",
     "text": [
      "True\n",
      "True\n",
      "True\n",
      "True\n",
      "True\n",
      "True\n",
      "True\n",
      "True\n",
      "True\n",
      "True\n",
      "True\n",
      "True\n",
      "True\n",
      "True\n"
     ]
    }
   ],
   "source": [
    "def M_double_perov(hkl):\n",
    "\n",
    "    # count how many of h,k,l are not zero\n",
    "    nonzero_cnt = 0\n",
    "    for i in hkl:\n",
    "        if i != '0':\n",
    "            nonzero_cnt += 1\n",
    "\n",
    "    return np.power(2,nonzero_cnt)\n",
    "\n",
    "# Multiplicities\n",
    "LTO_M = {\n",
    "    '001' : 2,\n",
    "    '002' : 2,\n",
    "    '100' : 2,\n",
    "    '010' : 2,\n",
    "    '101' : 4,\n",
    "    '011' : 4,\n",
    "    '102' : 4,\n",
    "    '012' : 4,\n",
    "    '111' : 8,\n",
    "    '110' : 4,\n",
    "    '201' : 4,\n",
    "    '211' : 8,\n",
    "    '200' : 2,\n",
    "    '004' : 2,\n",
    "}\n",
    "\n",
    "print(M_double_perov('001') == LTO_M['001'])\n",
    "print(M_double_perov('002') == LTO_M['002'])\n",
    "print(M_double_perov('100') == LTO_M['100'])\n",
    "print(M_double_perov('010') == LTO_M['010'])\n",
    "print(M_double_perov('101') == LTO_M['101'])\n",
    "print(M_double_perov('011') == LTO_M['011'])\n",
    "print(M_double_perov('102') == LTO_M['102'])\n",
    "print(M_double_perov('012') == LTO_M['012'])\n",
    "print(M_double_perov('111') == LTO_M['111'])\n",
    "print(M_double_perov('110') == LTO_M['110'])\n",
    "print(M_double_perov('201') == LTO_M['201'])\n",
    "print(M_double_perov('211') == LTO_M['211'])\n",
    "print(M_double_perov('200') == LTO_M['200'])\n",
    "print(M_double_perov('004') == LTO_M['004'])\n",
    "\n"
   ],
   "metadata": {
    "collapsed": false
   }
  }
 ],
 "metadata": {
  "kernelspec": {
   "display_name": "Python 3",
   "language": "python",
   "name": "python3"
  },
  "language_info": {
   "codemirror_mode": {
    "name": "ipython",
    "version": 2
   },
   "file_extension": ".py",
   "mimetype": "text/x-python",
   "name": "python",
   "nbconvert_exporter": "python",
   "pygments_lexer": "ipython2",
   "version": "2.7.6"
  }
 },
 "nbformat": 4,
 "nbformat_minor": 0
}
