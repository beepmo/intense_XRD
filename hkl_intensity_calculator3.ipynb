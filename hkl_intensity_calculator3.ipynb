{
 "cells": [
  {
   "cell_type": "code",
   "execution_count": 380,
   "metadata": {
    "collapsed": true
   },
   "outputs": [],
   "source": [
    "import numpy as np\n",
    "import matplotlib.pyplot as plt"
   ]
  },
  {
   "cell_type": "markdown",
   "source": [
    "We formulate $\\mathrm{La1_{x}La2_{\\frac{4}{3}-x}TiO_{3}}$."
   ],
   "metadata": {
    "collapsed": false
   }
  },
  {
   "cell_type": "markdown",
   "source": [
    "# Empirically determined parameters"
   ],
   "metadata": {
    "collapsed": false
   }
  },
  {
   "cell_type": "code",
   "execution_count": 381,
   "outputs": [],
   "source": [
    "# X-ray wavelength lambda (A)\n",
    "l = 1.54059"
   ],
   "metadata": {
    "collapsed": false
   }
  },
  {
   "cell_type": "code",
   "execution_count": 382,
   "outputs": [],
   "source": [
    "# Parameters of coherent scattering analytically approximated by 5 Gaussians\n",
    "# https://doi.org/10.1107/S0108767394013292\n",
    "\n",
    "# Oxygen\n",
    "a_O = (\n",
    "    2.960427,\n",
    "    2.508818,\n",
    "    0.637853,\n",
    "    0.722838,\n",
    "    1.142756,\n",
    ")\n",
    "b_O = (\n",
    "    14.182259,\n",
    "    5.936858,\n",
    "    0.112726,\n",
    "    34.958481,\n",
    "    0.390240,\n",
    ")\n",
    "c_O = 0.027014\n",
    "\n",
    "\n",
    "# Lanthanum\n",
    "a_La = (\n",
    "    19.966018,\n",
    "    27.329654,\n",
    "    11.018425,\n",
    "    3.086696,\n",
    "    17.335454,\n",
    ")\n",
    "b_La = (\n",
    "    3.197408,\n",
    "    0.003446,\n",
    "    19.955492,\n",
    "    141.381979,\n",
    "    0.341817,\n",
    ")\n",
    "c_La = -21.745489\n",
    "\n",
    "\n",
    "# Titanium\n",
    "a_Ti = (\n",
    "    9.818524,\n",
    "    1.522646,\n",
    "    1.703101,\n",
    "    1.768774,\n",
    "    7.082555,\n",
    ")\n",
    "b_Ti = (\n",
    "    8.001879,\n",
    "    0.029763,\n",
    "    39.885423,\n",
    "    120.158000,\n",
    "    0.532405,\n",
    ")\n",
    "c_Ti = 0.102473\n",
    "\n",
    "\n",
    "# Strontium\n",
    "a_Sr = (\n",
    "    17.730219,\n",
    "    9.795867,\n",
    "    6.099763,\n",
    "    2.620025,\n",
    "    0.600053,\n",
    ")\n",
    "b_Sr = (\n",
    "    1.563060,\n",
    "    14.310868,\n",
    "    0.120574,\n",
    "    135.771315,\n",
    "    0.120574,\n",
    ")\n",
    "c_Sr = 1.140251"
   ],
   "metadata": {
    "collapsed": false
   }
  },
  {
   "cell_type": "code",
   "execution_count": 383,
   "outputs": [],
   "source": [
    "# cubic multiplicities\n",
    "def M_cub(hkl):\n",
    "    # todo stop using the check as the function\n",
    "    STO_M = {\n",
    "    '001': 6,\n",
    "    '110' : 12,\n",
    "    '111' : 8,\n",
    "    '200' : 6,\n",
    "    '211' : 24,\n",
    "    '201' : 24,\n",
    "    '220' : 12,\n",
    "    '221' : 24,\n",
    "    '300' : 6,\n",
    "    '310' : 24,\n",
    "    '311' : 24,\n",
    "    '222' : 8,\n",
    "    }\n",
    "    return STO_M[hkl]\n",
    "\n",
    "# perfect perovskite basis\n",
    "pA = (0, 0, 0)\n",
    "pB = (0.5, 0.5, 0.5)\n",
    "pX1 = (0, 0.5, 0.5)\n",
    "pX2 = (0.5, 0, 0.5)\n",
    "pX3 = (0.5, 0.5, 0)"
   ],
   "metadata": {
    "collapsed": false
   }
  },
  {
   "cell_type": "markdown",
   "source": [
    "Attributes, grouped by compound:\n",
    "- Atomic positional parameters\n",
    "- lattice params\n",
    "- multiplicity"
   ],
   "metadata": {
    "collapsed": false
   }
  },
  {
   "cell_type": "code",
   "execution_count": 384,
   "outputs": [],
   "source": [
    "# La1_{4/3-x}La_{x}TiO3\n",
    "# src: cif source article\n",
    "\n",
    "# (x,y,z)\n",
    "La1 = (0,0,0.5)\n",
    "La2 = (0,0,0)\n",
    "Ti1 = (0.5, 0.5, 0.2594)\n",
    "Ti2 = (0.5, 0.5, 1 - 0.2594)\n",
    "O1 = (0.5,0.5,0.5)\n",
    "O2 = (0,0.5,0.23)\n",
    "O3 = (0.5,0,0.2412)\n",
    "O4 = (0.5,0.5,0)\n",
    "O5 = (0,0.5,1-0.23)\n",
    "O6 = (0.5,0,1-0.2412)\n",
    "# O7 = (0,0,0)\n",
    "# O8 = (0,0,1)\n",
    "\n",
    "\n",
    "# Lattice parameters\n",
    "a = 3.87890\n",
    "b = 3.86680\n",
    "c = 7.78660\n",
    "LTO_abc = (a, b, c)\n",
    "\n"
   ],
   "metadata": {
    "collapsed": false
   }
  },
  {
   "cell_type": "code",
   "execution_count": 385,
   "outputs": [],
   "source": [
    "def M_double_perov(hkl):\n",
    "\n",
    "    # count how many of h,k,l are not zero\n",
    "    nonzero_cnt = 0\n",
    "    for i in hkl:\n",
    "        if i != '0':\n",
    "            nonzero_cnt += 1\n",
    "\n",
    "    return np.power(2,nonzero_cnt)"
   ],
   "metadata": {
    "collapsed": false
   }
  },
  {
   "cell_type": "code",
   "execution_count": 386,
   "outputs": [],
   "source": [
    "# SrTiO3\n",
    "# src: cif source article\n",
    "\n",
    "# STO Lattice parameters\n",
    "a = 3.90527\n",
    "abc_STO = (a,a,a)"
   ],
   "metadata": {
    "collapsed": false
   }
  },
  {
   "cell_type": "markdown",
   "source": [
    "# Functions applicable to all structures"
   ],
   "metadata": {
    "collapsed": false
   }
  },
  {
   "cell_type": "markdown",
   "source": [
    "### $hkl$ to $\\frac{\\sin\\theta}{\\lambda}$\n",
    "We find $\\frac{\\sin\\theta}{\\lambda}$ from $hkl$ by the interplanar spacing equation\n",
    "$$\n",
    "d=\\frac{a}{\\sqrt{ h^{2}+\\left( \\frac{a}{b}\\cdot k \\right)^{2}+\\left( \\frac{a}{c}\\cdot l \\right)^{2} }}\n",
    "$$\n",
    "which combined with Bragg's law gives\n",
    "$$\n",
    "\\frac{\\sin\\theta}{\\lambda}=\\frac{1}{2d}=\\frac{\\sqrt{ h^{2}+\\left( \\frac{a}{b}\\cdot k \\right)^{2}+\\left( \\frac{a}{c}\\cdot l \\right)^{2} }}{2a}\n",
    "$$"
   ],
   "metadata": {
    "collapsed": false
   }
  },
  {
   "cell_type": "code",
   "execution_count": 387,
   "outputs": [],
   "source": [
    "'''\n",
    "Calculates sin(theta)/lambda (which I call angle data) as a function of hkl given a,b,c\n",
    "@param abc string\n",
    "@param hkl string\n",
    "'''\n",
    "def sintheta_over_lambda(abc, hkl):\n",
    "    h = int(hkl[0])\n",
    "    k = int(hkl[1])\n",
    "    l = int(hkl[2])\n",
    "    a = abc[0]\n",
    "    b = abc[1]\n",
    "    c = abc[2]\n",
    "\n",
    "    return np.sqrt(h**2 + (a*k/b)**2 + (a*l/c)**2) / (2*a)\n",
    "\n"
   ],
   "metadata": {
    "collapsed": false
   }
  },
  {
   "cell_type": "code",
   "execution_count": 388,
   "outputs": [],
   "source": [
    "def sintheta(abc,hkl):\n",
    "    return l * sintheta_over_lambda(abc,hkl)\n",
    "\n",
    "def costheta(abc,hkl):\n",
    "    return np.sqrt(1 - sintheta(abc,hkl)**2)"
   ],
   "metadata": {
    "collapsed": false
   }
  },
  {
   "cell_type": "code",
   "execution_count": 389,
   "outputs": [
    {
     "name": "stdout",
     "output_type": "stream",
     "text": [
      "Negligible difference: [ 2.07390836e-07 -6.29389442e-07 -4.36775288e-07 -3.70398693e-07\n",
      " -9.00687379e-07 -8.39515982e-07]\n"
     ]
    },
    {
     "data": {
      "text/plain": "<matplotlib.legend.Legend at 0x166055190>"
     },
     "execution_count": 389,
     "metadata": {},
     "output_type": "execute_result"
    },
    {
     "data": {
      "text/plain": "<Figure size 640x480 with 2 Axes>",
      "image/png": "[encoded data removed]"
     },
     "metadata": {},
     "output_type": "display_data"
    }
   ],
   "source": [
    "# check\n",
    "\n",
    "j_sintheta = (\n",
    "    sintheta(LTO_abc,'001'),\n",
    "    sintheta(LTO_abc,'111'),\n",
    "    sintheta(LTO_abc,'110'),\n",
    "    sintheta(LTO_abc,'201'),\n",
    "    sintheta(LTO_abc,'211'),\n",
    "    sintheta(LTO_abc,'200'),\n",
    ")\n",
    "\n",
    "v_2theta = (\n",
    "    11.3546,\n",
    "    34.6957,\n",
    "    32.6736,\n",
    "    48.3226,\n",
    "    54.1569,\n",
    "    46.8031\n",
    ")\n",
    "\n",
    "v_sintheta = np.sin(np.array(v_2theta) / 2 * 2 * np.pi / 360)\n",
    "\n",
    "print(f'Negligible difference: {np.array(j_sintheta) - np.array(v_sintheta)}')\n",
    "\n",
    "fig, (ax1, ax2) = plt.subplots(1, 2)\n",
    "ax1.bar((1,2,3,4,5,6),j_sintheta,label='joan')\n",
    "ax1.legend()\n",
    "ax2.bar((1,2,3,4,5,6),v_sintheta,label='vesta')\n",
    "ax2.legend()"
   ],
   "metadata": {
    "collapsed": false
   }
  },
  {
   "cell_type": "markdown",
   "source": [
    "### Lorentz polarization\n",
    "We formulate the Lorentz-polarization factor as $$\n",
    "\\frac{{1+\\cos(2\\theta)^{2}}}{\\sin(\\theta)^{2}\\cos(\\theta)}.\n",
    "$$\n",
    "src: XRD book\n",
    "Conflicts with international tables"
   ],
   "metadata": {
    "collapsed": false
   }
  },
  {
   "cell_type": "code",
   "execution_count": 390,
   "outputs": [],
   "source": [
    "'''\n",
    "Lorentz-polarization factor at direction hkl\n",
    "@param hkl string\n",
    "'''\n",
    "def lorentz(hkl,abc):\n",
    "    return (2+ 4*costheta(abc,hkl)**4 - 4*costheta(abc,hkl)**2)/(sintheta(abc,hkl)**2 * costheta(abc,hkl))\n"
   ],
   "metadata": {
    "collapsed": false
   }
  },
  {
   "cell_type": "markdown",
   "source": [
    "### Coherent scattering atomic form factor\n",
    "$f(\\theta)$ is the coherent scattering factor. Its intensity as a function of $\\theta$ is analytically approximated by $N=5$ gaussians:\n",
    "$$f_0 (\\sin \\theta / \\lambda ) = \\sum _{i=1}^N a_i \\exp \\left ( −b_i \\frac {\\sin ^2 \\theta }{ \\lambda ^2} \\right ) + c.$$\n",
    "The 11 params $a_{i},b_{i},c$ are defined & cited up there."
   ],
   "metadata": {
    "collapsed": false
   }
  },
  {
   "cell_type": "code",
   "execution_count": 391,
   "outputs": [],
   "source": [
    "'''\n",
    "Atomic form factors of given atom (Coherent scattering)\n",
    " @param hkl string\n",
    " @param ai string\n",
    " @param bi string\n",
    " @param c float\n",
    " @param abc lattice parameters; required to calculate sin(theta)/lambda\n",
    "'''\n",
    "def f(hkl,ai,bi,c,abc):\n",
    "    f0 = c\n",
    "    for i in range(5):\n",
    "        f0 += ai[i] * np.exp(- bi[i] * sintheta_over_lambda(abc, hkl) ** 2)\n",
    "    return f0"
   ],
   "metadata": {
    "collapsed": false
   }
  },
  {
   "cell_type": "markdown",
   "source": [
    "### Exp of Atomic positional factor\n",
    "\n",
    "$$\\exp \\bigl [ 2\\pi \\mathrm {i} \\big ( hx_j + ky_j + lz_j \\big ) \\bigr ]$$"
   ],
   "metadata": {
    "collapsed": false
   }
  },
  {
   "cell_type": "code",
   "execution_count": 392,
   "outputs": [],
   "source": [
    "'''\n",
    "Exponent containing atomic positional params in structure factor\n",
    " @param hkl string\n",
    " #param xyz string\n",
    "'''\n",
    "def exphkl(hkl,xyz):\n",
    "    h = int(hkl[0])\n",
    "    k = int(hkl[1])\n",
    "    l = int(hkl[2])\n",
    "\n",
    "    ans = np.exp(2 * np.pi * 1j * (h*xyz[0] + k*xyz[1] + l*xyz[2]))\n",
    "\n",
    "    return ans"
   ],
   "metadata": {
    "collapsed": false
   }
  },
  {
   "cell_type": "code",
   "execution_count": 393,
   "outputs": [],
   "source": [
    "def O_collective(hkl):\n",
    "    ans = exphkl(hkl,O4) + exphkl(hkl,O2) + exphkl(hkl,O3) + exphkl(hkl,O1)\n",
    "    print(f'{hkl}     {np.real(ans)}    {np.imag(ans)}')\n",
    "    return ans"
   ],
   "metadata": {
    "collapsed": false
   }
  },
  {
   "cell_type": "code",
   "execution_count": 394,
   "outputs": [
    {
     "name": "stdout",
     "output_type": "stream",
     "text": [
      "001     0.18059709536123147    1.990586486383686\n",
      "002     0.03752502771278865    0.3590487006412464\n",
      "003     -0.5332410138675361    -1.9160505625253943\n",
      "004     3.8519485446200292    -0.7011231161084418\n",
      "005     0.8607371878097987    1.771044665961034\n"
     ]
    },
    {
     "data": {
      "text/plain": "(0.8607371878097987+1.771044665961034j)"
     },
     "execution_count": 394,
     "metadata": {},
     "output_type": "execute_result"
    }
   ],
   "source": [
    "O_collective('001')\n",
    "O_collective('002')\n",
    "O_collective('003')\n",
    "O_collective('004')\n",
    "O_collective('005')\n"
   ],
   "metadata": {
    "collapsed": false
   }
  },
  {
   "cell_type": "markdown",
   "source": [
    "## Intensity\n",
    "\n",
    "$$I_{hkl}=\\mathrm{Multiplicity} \\cdot \\frac{{1+\\cos(2\\theta)^{2}}}{\\sin(\\theta)^{2}\\cos(\\theta)}\\cdot |S_{hkl}|^{2}$$\n",
    "Intensity is herein formulated with multiplicity, the VESTA version of lorentz-polarization, and the structure factor. We are interested only in hkl-dependent features. The absorption factor and Debye-Waller temperature are neglected."
   ],
   "metadata": {
    "collapsed": false
   }
  },
  {
   "cell_type": "code",
   "execution_count": 395,
   "outputs": [],
   "source": [
    "'''\n",
    " intensity of the peak hkl when La distribution described by x\n",
    " @param hkl string\n",
    " @param x float\n",
    " @param M dict\n",
    " @param S(hkl,x)\n",
    "'''\n",
    "def I(hkl,abc,x,M,S):\n",
    "    return M(hkl) * lorentz(hkl,abc) * (np.absolute(S(hkl, x)) ** 2)"
   ],
   "metadata": {
    "collapsed": false
   }
  },
  {
   "cell_type": "markdown",
   "source": [
    "# Structure-specific functions"
   ],
   "metadata": {
    "collapsed": false
   }
  },
  {
   "cell_type": "markdown",
   "source": [
    "### L2/3TO: Order parameter and structure factor\n",
    "Translate $x$ in $\\mathrm{La1_{x}La2_{\\frac{4}{3}-x}TiO_{3}}$ to Uchino's order parameter $\\sigma$.\n",
    "$$S=(x)F_{\\text{La1}}+\\left( \\frac{4}{3}-x \\right)F_{\\text{La2}}+F_{\\text{Ti}}+F_{\\text{O}}$$\n"
   ],
   "metadata": {
    "collapsed": false
   }
  },
  {
   "cell_type": "code",
   "execution_count": 396,
   "outputs": [],
   "source": [
    "'''\n",
    "Calculates Uchino's order parameter given x\n",
    "@param x float\n",
    "'''\n",
    "def sigma(x):\n",
    "    return 2-3*x\n",
    "\n",
    "def x_from_sigma(sigma):\n",
    "    return (2-sigma)/3"
   ],
   "metadata": {
    "collapsed": false
   }
  },
  {
   "cell_type": "code",
   "execution_count": 397,
   "outputs": [],
   "source": [
    "'''\n",
    "La2/3TiO3 Structure factor of the peak hkl, containing all basis atoms, when La distribution described by x\n",
    " @param hkl string\n",
    " @param x float\n",
    "'''\n",
    "def L2p3TO_S(hkl, x):\n",
    "    ans = x * f(hkl,a_La,b_La,c_La,LTO_abc) * exphkl(hkl,La1) \\\n",
    "          + (4/3 - x) * f(hkl,a_La,b_La,c_La,LTO_abc) * exphkl(hkl,La2) \\\n",
    "          + f(hkl,a_Ti,b_Ti,c_Ti,LTO_abc) * (exphkl(hkl, Ti1)+exphkl(hkl, Ti2)) \\\n",
    "          + f(hkl,a_O,b_O,c_O,LTO_abc) * (exphkl(hkl,O1) + exphkl(hkl,O2) + exphkl(hkl,O3) + exphkl(hkl,O4) + exphkl(hkl,O5) + exphkl(hkl,O6)) # six basis O atoms\n",
    "    return ans"
   ],
   "metadata": {
    "collapsed": false
   }
  },
  {
   "cell_type": "markdown",
   "source": [
    "### STO structure factor\n",
    "$$S=F_{\\text{Sr}}+F_{\\text{Ti}}+F_{\\text{O}_{1,2,3}$$\n",
    "VESTA included only 1 oxygen basis atom. However, I am not convinced that one can produce all require oxygens under m-3m or 4/mm.m transformations. I am going with the reduced unit cell which has three O atoms."
   ],
   "metadata": {
    "collapsed": false
   }
  },
  {
   "cell_type": "code",
   "execution_count": 398,
   "outputs": [],
   "source": [
    "'''\n",
    "La2/3TiO3 Structure factor of the peak hkl, containing all basis atoms, when La distribution described by x\n",
    " @param hkl string\n",
    " @param x float (dummy var)\n",
    "'''\n",
    "def STO_S(hkl, x):\n",
    "    ans = f(hkl,a_Sr,b_Sr,c_Sr,abc_STO) * exphkl(hkl, pA) \\\n",
    "          + f(hkl,a_O,b_O,c_O,abc_STO) * (exphkl(hkl, pX1) + exphkl(hkl, pX2) + exphkl(hkl, pX3)) \\\n",
    "          + f(hkl,a_Ti,b_Ti,c_Ti,abc_STO) * exphkl(hkl, pB)\n",
    "    return ans"
   ],
   "metadata": {
    "collapsed": false
   }
  },
  {
   "cell_type": "markdown",
   "source": [
    "### LTO structure factor\n",
    "$$S=F_{\\text{La}}+F_{\\text{Ti}}+F_{\\text{O}_{1,2,3}$$\n"
   ],
   "metadata": {
    "collapsed": false
   }
  },
  {
   "cell_type": "markdown",
   "source": [
    "# Results"
   ],
   "metadata": {
    "collapsed": false
   }
  },
  {
   "cell_type": "markdown",
   "source": [
    "## STO Structure factor & Intensity match\n",
    "Ignoring anomalous dispersion"
   ],
   "metadata": {
    "collapsed": false
   }
  },
  {
   "cell_type": "code",
   "execution_count": 399,
   "outputs": [
    {
     "name": "stdout",
     "output_type": "stream",
     "text": [
      "Negligible difference: [-1.24054254e-06  2.73084510e-07  2.22582303e-05  3.39729732e-05\n",
      " -2.98050421e-06  2.81232009e-05]\n"
     ]
    },
    {
     "data": {
      "text/plain": "<Figure size 640x480 with 2 Axes>",
      "image/png": "[encoded data removed]"
     },
     "metadata": {},
     "output_type": "display_data"
    }
   ],
   "source": [
    "# Joan STO structure factors\n",
    "x = 1 # dummy\n",
    "s001 = np.absolute(STO_S('001',x))\n",
    "s111 = np.absolute(STO_S('111',x))\n",
    "s110 = np.absolute(STO_S('110',x))\n",
    "s201 = np.absolute(STO_S('201',x))\n",
    "s211 = np.absolute(STO_S('211',x))\n",
    "s200 = np.absolute(STO_S('200',x))\n",
    "\n",
    "s_joan = (s001, s110, s111, s200, s201, s211)\n",
    "\n",
    "# VESTA STO structure factors\n",
    "s_vesta = (\n",
    "    7.92045,\n",
    "    41.5026,\n",
    "    29.4554,\n",
    "    56.166,\n",
    "    8.56659,\n",
    "    34.2936,\n",
    ")\n",
    "\n",
    "print(f'Negligible difference: {np.array(s_vesta) - np.array(s_joan)}')\n",
    "fig, (ax1, ax2) = plt.subplots(1, 2)\n",
    "ax1.bar((1,2,3,4,5,6),s_joan,label='joan')\n",
    "ax1.legend()\n",
    "ax2.bar((1,2,3,4,5,6),s_vesta,label='vesta')\n",
    "ax2.legend()\n",
    "\n",
    "plt.show()"
   ],
   "metadata": {
    "collapsed": false
   }
  },
  {
   "cell_type": "code",
   "execution_count": 400,
   "outputs": [
    {
     "name": "stdout",
     "output_type": "stream",
     "text": [
      "[ 2.34056188e-07  4.50430843e-06  8.09525533e-07  1.72327426e-06\n",
      " -5.67428341e-08  1.54257137e-06  1.08212213e-06  2.08183345e-07\n",
      " -1.13269335e-05  5.92888913e-07  1.11218371e-07  5.75527748e-07]\n"
     ]
    },
    {
     "data": {
      "text/plain": "<Figure size 640x480 with 2 Axes>",
      "image/png": "[encoded data removed]"
     },
     "metadata": {},
     "output_type": "display_data"
    }
   ],
   "source": [
    "# Joan STO intensities\n",
    "x = 1 # dummy\n",
    "i001 = I('001',abc_STO,x,M_cub,STO_S)\n",
    "i111 = I('111',abc_STO,x,M_cub,STO_S)\n",
    "i110 = I('110',abc_STO,x,M_cub,STO_S)\n",
    "i201 = I('201',abc_STO,x,M_cub,STO_S)\n",
    "i211 = I('211',abc_STO,x,M_cub,STO_S)\n",
    "i200 = I('200',abc_STO,x,M_cub,STO_S)\n",
    "i220 = I('220',abc_STO,x,M_cub,STO_S)\n",
    "i221 = I('221',abc_STO,x,M_cub,STO_S)\n",
    "i300 = I('300',abc_STO,x,M_cub,STO_S)\n",
    "i310 = I('310',abc_STO,x,M_cub,STO_S)\n",
    "i311 = I('311',abc_STO,x,M_cub,STO_S)\n",
    "i222 = I('222',abc_STO,x,M_cub,STO_S)\n",
    "\n",
    "i_joan = (i001,i110,i111,i200,i201,i211,i220,i221,i300,i310,i311,i222)\n",
    "\n",
    "\n",
    "# VESTA STO intensities without anomalous dispersion\n",
    "i_vesta = (\n",
    "    3.8539,\n",
    "    100,\n",
    "    21.2008,\n",
    "    41.1848,\n",
    "    2.9237,\n",
    "    37.4292,\n",
    "    23.1229,\n",
    "    1.4643,\n",
    "    0.3631,\n",
    "    15.8968,\n",
    "    6.3035,\n",
    "    7.7040,\n",
    ")\n",
    "\n",
    "\n",
    "# normalize\n",
    "i_joan = np.array(i_joan)\n",
    "i_joan = i_joan/i_joan.sum()\n",
    "i_vesta = np.array(i_vesta)\n",
    "i_vesta = i_vesta/i_vesta.sum()\n",
    "\n",
    "dif = i_vesta - i_joan\n",
    "\n",
    "# plot\n",
    "n = len(i_vesta) # = len(i_joan)\n",
    "ymin = -0.1\n",
    "ymax = 0.4\n",
    "\n",
    "print(dif)\n",
    "\n",
    "fig, (ax1, ax2) = plt.subplots(1, 2)\n",
    "ax1.bar(np.arange(n),i_joan,label='joan')\n",
    "ax1.bar(np.arange(n),dif,label='dif')\n",
    "ax1.legend()\n",
    "ax1.set_ylim([ymin, ymax])\n",
    "\n",
    "ax2.bar(np.arange(n),i_vesta,label='vesta')\n",
    "ax2.legend()\n",
    "ax2.set_ylim([ymin, ymax])\n",
    "\n",
    "plt.show()"
   ],
   "metadata": {
    "collapsed": false
   }
  },
  {
   "cell_type": "markdown",
   "source": [
    "## La2p3TiO3 Structure factor & intensity match"
   ],
   "metadata": {
    "collapsed": false
   }
  },
  {
   "cell_type": "code",
   "execution_count": 401,
   "outputs": [
    {
     "name": "stdout",
     "output_type": "stream",
     "text": [
      "A small difference: [-0.08654076 -2.57728209 -0.74806506 -6.02064131 -1.45543717 -1.48742803]\n"
     ]
    },
    {
     "data": {
      "text/plain": "<Figure size 640x480 with 2 Axes>",
      "image/png": "[encoded data removed]"
     },
     "metadata": {},
     "output_type": "display_data"
    }
   ],
   "source": [
    "# Joan La2/3TiO3 structure factors\n",
    "x = 0.353 # src default\n",
    "s001 = np.absolute(L2p3TO_S('001',x))\n",
    "s111 = np.absolute(L2p3TO_S('111',x))\n",
    "s110 = np.absolute(L2p3TO_S('110',x))\n",
    "s201 = np.absolute(L2p3TO_S('201',x))\n",
    "s211 = np.absolute(L2p3TO_S('211',x))\n",
    "s200 = np.absolute(L2p3TO_S('200',x))\n",
    "\n",
    "s_joan = (s001, s110, s111, s200, s201, s211)\n",
    "\n",
    "# VESTA Ls2/3TiO3 structure factors\n",
    "s_vesta = (\n",
    "    34.4102,\n",
    "    80.5659,\n",
    "    23.8959,\n",
    "    106.264,\n",
    "    24.3273,\n",
    "    24.2415,\n",
    ")\n",
    "\n",
    "print(f'A small difference: {np.array(s_vesta) - np.array(s_joan)}')\n",
    "fig, (ax1, ax2) = plt.subplots(1, 2)\n",
    "ax1.bar((1,2,3,4,5,6),s_joan,label='joan')\n",
    "ax1.legend()\n",
    "ax2.bar((1,2,3,4,5,6),s_vesta,label='vesta')\n",
    "ax2.legend()\n",
    "\n",
    "plt.show()\n"
   ],
   "metadata": {
    "collapsed": false
   }
  },
  {
   "cell_type": "code",
   "execution_count": 402,
   "outputs": [
    {
     "name": "stdout",
     "output_type": "stream",
     "text": [
      "A small difference: [-0.04112925 -2.52188209  0.16253985 -5.90064131  0.44721832 -0.29141176]\n"
     ]
    },
    {
     "data": {
      "text/plain": "<Figure size 640x480 with 2 Axes>",
      "image/png": "[encoded data removed]"
     },
     "metadata": {},
     "output_type": "display_data"
    }
   ],
   "source": [
    "# Joan La2/3TiO3 structure factors\n",
    "x = 2/3 # unordered\n",
    "s001 = np.absolute(L2p3TO_S('001',x))\n",
    "s111 = np.absolute(L2p3TO_S('111',x))\n",
    "s110 = np.absolute(L2p3TO_S('110',x))\n",
    "s201 = np.absolute(L2p3TO_S('201',x))\n",
    "s211 = np.absolute(L2p3TO_S('211',x))\n",
    "s200 = np.absolute(L2p3TO_S('200',x))\n",
    "\n",
    "s_joan = (s001, s110, s111, s200, s201, s211)\n",
    "\n",
    "# VESTA Ls2/3TiO3 structure factors\n",
    "s_vesta = (\n",
    "    0.284413,\n",
    "    80.6213,\n",
    "    4.15069,\n",
    "    106.384,\n",
    "    0.464089,\n",
    "    0.699209,\n",
    ")\n",
    "\n",
    "print(f'A small difference: {np.array(s_vesta) - np.array(s_joan)}')\n",
    "fig, (ax1, ax2) = plt.subplots(1, 2)\n",
    "ax1.bar((1,2,3,4,5,6),s_joan,label='joan')\n",
    "ax1.legend()\n",
    "ax2.bar((1,2,3,4,5,6),s_vesta,label='vesta')\n",
    "ax2.legend()\n",
    "\n",
    "plt.show()"
   ],
   "metadata": {
    "collapsed": false
   }
  },
  {
   "cell_type": "code",
   "execution_count": 403,
   "outputs": [
    {
     "data": {
      "text/plain": "<Figure size 640x480 with 2 Axes>",
      "image/png": "[encoded data removed]"
     },
     "metadata": {},
     "output_type": "display_data"
    }
   ],
   "source": [
    "x = 0.353 # VESTA src set\n",
    "i001 = I('001', LTO_abc, x,M_double_perov, L2p3TO_S)\n",
    "i002 = I('002', LTO_abc, x,M_double_perov, L2p3TO_S)\n",
    "i100 = I('100', LTO_abc, x,M_double_perov, L2p3TO_S)\n",
    "i010 = I('010', LTO_abc, x,M_double_perov, L2p3TO_S)\n",
    "i101 = I('101', LTO_abc, x,M_double_perov, L2p3TO_S)\n",
    "i011 = I('011', LTO_abc, x,M_double_perov, L2p3TO_S)\n",
    "i102 = I('102', LTO_abc, x,M_double_perov, L2p3TO_S)\n",
    "i012 = I('012', LTO_abc, x,M_double_perov, L2p3TO_S)\n",
    "i110 = I('110', LTO_abc, x,M_double_perov, L2p3TO_S)\n",
    "i111 = I('111', LTO_abc, x,M_double_perov, L2p3TO_S)\n",
    "i200 = I('200', LTO_abc, x,M_double_perov, L2p3TO_S)\n",
    "i201 = I('201', LTO_abc, x,M_double_perov, L2p3TO_S)\n",
    "i211 = I('211', LTO_abc, x,M_double_perov, L2p3TO_S)\n",
    "\n",
    "i_joan = (i001,i002,i100,i010,i101,i011,i102,i012,i110,i111,i200,i201,i211,)\n",
    "\n",
    "# VESTA STO intensities without anomalous dispersion\n",
    "i_vesta = (\n",
    "    78.4035,\n",
    "    4.5339,\n",
    "    4.2549,\n",
    "    4.4403,\n",
    "    27.4602,\n",
    "    24.4494,\n",
    "    100,\n",
    "    96.5008,\n",
    "    96.0481,\n",
    "    14.8313,\n",
    "    37.6612,\n",
    "    3.6716,\n",
    "    5.6252,\n",
    ")\n",
    "\n",
    "# normalize\n",
    "i_joan = np.array(i_joan)\n",
    "i_joan = i_joan/i_joan.sum()\n",
    "i_vesta = np.array(i_vesta)\n",
    "i_vesta = i_vesta/i_vesta.sum()\n",
    "\n",
    "dif = i_vesta - i_joan\n",
    "\n",
    "# plot\n",
    "n = len(i_vesta) # = len(i_joan)\n",
    "ymin = -0.1\n",
    "ymax = 0.3\n",
    "\n",
    "fig, (ax1, ax2) = plt.subplots(1, 2)\n",
    "ax1.bar(np.arange(n),i_joan,label='joan')\n",
    "ax1.bar(np.arange(n),dif,label='dif')\n",
    "ax1.legend()\n",
    "ax1.set_ylim([ymin, ymax])\n",
    "\n",
    "ax2.bar(np.arange(n),i_vesta,label='vesta')\n",
    "ax2.legend()\n",
    "ax2.set_ylim([ymin, ymax])\n",
    "\n",
    "plt.show()"
   ],
   "metadata": {
    "collapsed": false
   }
  },
  {
   "cell_type": "markdown",
   "source": [
    "# Intensity predictions"
   ],
   "metadata": {
    "collapsed": false
   }
  },
  {
   "cell_type": "markdown",
   "source": [
    "## Thin film XRD intensity\n",
    "\n",
    "$$I_{hkl}=\\frac{{1+\\cos(2\\theta)^{2}}}{\\sin(\\theta)^{2}\\cos(\\theta)}\\cdot |S_{hkl}|^{2}$$\n",
    "Modifications to powder XRD:\n",
    "- the multiplicity factor is now uniformly 1 for all hkl\n",
    "- the polarization factor stays (https://dictionary.iucr.org/Lorentz%E2%80%93polarization_correction)\n",
    "- the Lorentz factor, I think it should get rid of a sintheta on the denominator. not sure though (http://clay.uga.edu/courses/8550/Reynolds_1986.pdf)\n",
    "\n",
    "Version 2:\n",
    "$$I_{hkl}=\\frac{{1+\\cos(2\\theta)^{2}}}{\\sin(\\theta)\\cos(\\theta)}\\cdot |S_{hkl}|^{2}$$"
   ],
   "metadata": {
    "collapsed": false
   }
  },
  {
   "cell_type": "code",
   "execution_count": 404,
   "outputs": [],
   "source": [
    "'''\n",
    " intensity of the peak hkl when La distribution described by x\n",
    " @param hkl string\n",
    " @param x float\n",
    " @param M dict\n",
    " @param S(hkl,x)\n",
    "'''\n",
    "def thin_I(hkl,abc,x,S):\n",
    "    return lorentz(hkl,abc) * (np.absolute(S(hkl, x)) ** 2)\n",
    "\n",
    "def thin_I2(hkl,abc,x,S):\n",
    "    return lorentz(hkl,abc) * sintheta(abc,hkl) * np.absolute(S(hkl, x)) ** 2"
   ],
   "metadata": {
    "collapsed": false
   }
  },
  {
   "cell_type": "code",
   "execution_count": 406,
   "outputs": [
    {
     "data": {
      "text/plain": "<Figure size 640x480 with 1 Axes>",
      "image/png": "[encoded data removed]"
     },
     "metadata": {},
     "output_type": "display_data"
    }
   ],
   "source": [],
   "metadata": {
    "collapsed": false
   }
  },
  {
   "cell_type": "code",
   "execution_count": 411,
   "outputs": [],
   "source": [
    "# increase robustness, decrease mem efficiency\n",
    "'''\n",
    "La2p3TiO3 intensity shortcut using lorentz v1\n",
    "'''\n",
    "def LaI(hkl,x):\n",
    "    return thin_I(hkl,LTO_abc,x,L2p3TO_S)"
   ],
   "metadata": {
    "collapsed": false
   }
  },
  {
   "cell_type": "code",
   "execution_count": 407,
   "outputs": [
    {
     "data": {
      "text/plain": "<matplotlib.lines.Line2D at 0x167b9bd30>"
     },
     "execution_count": 407,
     "metadata": {},
     "output_type": "execute_result"
    },
    {
     "data": {
      "text/plain": "<Figure size 640x480 with 1 Axes>",
      "image/png": "[encoded data removed]"
     },
     "metadata": {},
     "output_type": "display_data"
    }
   ],
   "source": [
    "measured_small_peak_1 = 16.8\n",
    "measured_big_peak_2 = 362.5\n",
    "\n",
    "# for intercepting\n",
    "plt.plot(s, i001 / (i200+i020+i004))\n",
    "plt.axhline(y=measured_small_peak_1/measured_big_peak_2)"
   ],
   "metadata": {
    "collapsed": false
   }
  },
  {
   "cell_type": "code",
   "execution_count": 409,
   "outputs": [],
   "source": [
    "# calculations v2\n",
    "x = np.linspace(1/3,2/3,num=100)\n",
    "s = sigma(x)\n",
    "\n",
    "i001 = thin_I2('001', LTO_abc, x, L2p3TO_S)\n",
    "i101 = thin_I2('101', LTO_abc, x, L2p3TO_S)\n",
    "i111 = thin_I2('111', LTO_abc, x, L2p3TO_S)\n",
    "i110 = thin_I2('110', LTO_abc, x, L2p3TO_S)\n",
    "i201 = thin_I2('201', LTO_abc, x, L2p3TO_S)\n",
    "i211 = thin_I2('211', LTO_abc, x, L2p3TO_S)\n",
    "i200 = thin_I2('200', LTO_abc, x, L2p3TO_S)\n",
    "i004 = thin_I2('004', LTO_abc, x, L2p3TO_S)\n",
    "i020 = thin_I2('020', LTO_abc, x, L2p3TO_S)"
   ],
   "metadata": {
    "collapsed": false
   }
  },
  {
   "cell_type": "code",
   "execution_count": 409,
   "outputs": [],
   "source": [],
   "metadata": {
    "collapsed": false
   }
  },
  {
   "cell_type": "code",
   "execution_count": 410,
   "outputs": [
    {
     "data": {
      "text/plain": "<matplotlib.lines.Line2D at 0x167e10d60>"
     },
     "execution_count": 410,
     "metadata": {},
     "output_type": "execute_result"
    },
    {
     "data": {
      "text/plain": "<Figure size 640x480 with 1 Axes>",
      "image/png": "[encoded data removed]"
     },
     "metadata": {},
     "output_type": "display_data"
    }
   ],
   "source": [
    "measured_small_peak_1 = 16.8\n",
    "measured_big_peak_2 = 362.5\n",
    "\n",
    "# for intercepting\n",
    "plt.plot(s, i001 / (i200+i020+i004))\n",
    "plt.axhline(y=measured_small_peak_1/measured_big_peak_2)"
   ],
   "metadata": {
    "collapsed": false
   }
  },
  {
   "cell_type": "code",
   "execution_count": 410,
   "outputs": [],
   "source": [],
   "metadata": {
    "collapsed": false
   }
  }
 ],
 "metadata": {
  "kernelspec": {
   "display_name": "Python 3",
   "language": "python",
   "name": "python3"
  },
  "language_info": {
   "codemirror_mode": {
    "name": "ipython",
    "version": 2
   },
   "file_extension": ".py",
   "mimetype": "text/x-python",
   "name": "python",
   "nbconvert_exporter": "python",
   "pygments_lexer": "ipython2",
   "version": "2.7.6"
  }
 },
 "nbformat": 4,
 "nbformat_minor": 0
}
