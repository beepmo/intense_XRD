{
 "cells": [
  {
   "cell_type": "code",
   "execution_count": 97,
   "metadata": {
    "collapsed": true
   },
   "outputs": [],
   "source": [
    "import numpy as np\n",
    "import matplotlib.pyplot as plt"
   ]
  },
  {
   "cell_type": "markdown",
   "source": [
    "We formulate $\\mathrm{La1_{x}La2_{\\frac{4}{3}-x}TiO_{3}}$."
   ],
   "metadata": {
    "collapsed": false
   }
  },
  {
   "cell_type": "markdown",
   "source": [
    "# Empirical parameters"
   ],
   "metadata": {
    "collapsed": false
   }
  },
  {
   "cell_type": "code",
   "execution_count": 98,
   "outputs": [],
   "source": [
    "# X-ray wavelength lambda (A)\n",
    "l = 1.54059"
   ],
   "metadata": {
    "collapsed": false
   }
  },
  {
   "cell_type": "code",
   "execution_count": 99,
   "outputs": [],
   "source": [
    "# Parameters of coherent scattering analytically approximated by 5 Gaussians\n",
    "# https://doi.org/10.1107/S0108767394013292\n",
    "\n",
    "# Oxygen\n",
    "a_O = (\n",
    "    2.960427,\n",
    "    2.508818,\n",
    "    0.637853,\n",
    "    0.722838,\n",
    "    1.142756,\n",
    ")\n",
    "b_O = (\n",
    "    14.182259,\n",
    "    5.936858,\n",
    "    0.112726,\n",
    "    34.958481,\n",
    "    0.390240,\n",
    ")\n",
    "c_O = 0.027014\n",
    "\n",
    "\n",
    "# Lanthanum\n",
    "a_La = (\n",
    "    19.966018,\n",
    "    27.329654,\n",
    "    11.018425,\n",
    "    3.086696,\n",
    "    17.335454,\n",
    ")\n",
    "b_La = (\n",
    "    3.197408,\n",
    "    0.003446,\n",
    "    19.955492,\n",
    "    141.381979,\n",
    "    0.341817,\n",
    ")\n",
    "c_La = -21.745489\n",
    "\n",
    "\n",
    "# Titanium\n",
    "a_Ti = (\n",
    "    9.818524,\n",
    "    1.522646,\n",
    "    1.703101,\n",
    "    1.768774,\n",
    "    7.082555,\n",
    ")\n",
    "b_Ti = (\n",
    "    8.001879,\n",
    "    0.029763,\n",
    "    39.885423,\n",
    "    120.158000,\n",
    "    0.532405,\n",
    ")\n",
    "c_Ti = 0.102473\n",
    "\n",
    "\n",
    "# Strontium\n",
    "a_Sr = (\n",
    "    17.730219,\n",
    "    9.795867,\n",
    "    6.099763,\n",
    "    2.620025,\n",
    "    0.600053,\n",
    ")\n",
    "b_Sr = (\n",
    "    1.563060,\n",
    "    14.310868,\n",
    "    0.120574,\n",
    "    135.771315,\n",
    "    0.120574,\n",
    ")\n",
    "c_Sr = 1.140251"
   ],
   "metadata": {
    "collapsed": false
   }
  },
  {
   "cell_type": "code",
   "execution_count": 100,
   "outputs": [],
   "source": [
    "# cubic multiplicities\n",
    "def M_cub(hkl):\n",
    "    # todo stop using the check as the function\n",
    "    STO_M = {\n",
    "    '001': 6,\n",
    "    '110' : 12,\n",
    "    '111' : 8,\n",
    "    '200' : 6,\n",
    "    '211' : 24,\n",
    "    '201' : 24,\n",
    "    '220' : 12,\n",
    "    '221' : 24,\n",
    "    '300' : 6,\n",
    "    '310' : 24,\n",
    "    '311' : 24,\n",
    "    '222' : 8,\n",
    "    }\n",
    "    return STO_M[hkl]\n",
    "\n",
    "# perfect perovskite basis\n",
    "pA = (0, 0, 0)\n",
    "pB = (0.5, 0.5, 0.5)\n",
    "pX1 = (0, 0.5, 0.5)\n",
    "pX2 = (0.5, 0, 0.5)\n",
    "pX3 = (0.5, 0.5, 0)"
   ],
   "metadata": {
    "collapsed": false
   }
  },
  {
   "cell_type": "code",
   "execution_count": 101,
   "outputs": [],
   "source": [
    "# La1_{4/3-x}La_{x}TiO3\n",
    "# src: cif source article\n",
    "\n",
    "# (x,y,z)\n",
    "La1 = (0,0,0.5)\n",
    "La2 = (0,0,0)\n",
    "Ti1 = (0.5,0.5,0.2594)\n",
    "Ti2 = (0.5,0.5,1-0.2594)\n",
    "O1 = (0.5,0.5,0.5)\n",
    "O2 = (0,0.5,0.23)\n",
    "O3 = (0.5,0,0.2412)\n",
    "O4 = (0.5,0.5,0)\n",
    "O5 = (0,0.5,1-0.23)\n",
    "O6 = (0.5,0,1-0.2412)\n",
    "\n",
    "\n",
    "# Lattice parameters\n",
    "a = 3.87890\n",
    "b = 3.86680\n",
    "c = 7.78660\n",
    "LTO_abc = (a, b, c)\n",
    "\n"
   ],
   "metadata": {
    "collapsed": false
   }
  },
  {
   "cell_type": "code",
   "execution_count": 102,
   "outputs": [],
   "source": [
    "def M_double_perov(hkl):\n",
    "\n",
    "    # count how many of h,k,l are not zero\n",
    "    nonzero_cnt = 0\n",
    "    for i in hkl:\n",
    "        if i != '0':\n",
    "            nonzero_cnt += 1\n",
    "\n",
    "    return np.power(2,nonzero_cnt)"
   ],
   "metadata": {
    "collapsed": false
   }
  },
  {
   "cell_type": "code",
   "execution_count": 103,
   "outputs": [],
   "source": [
    "# SrTiO3\n",
    "# src: cif source article\n",
    "\n",
    "# STO Lattice parameters\n",
    "a = 3.90527\n",
    "abc_STO = (a,a,a)"
   ],
   "metadata": {
    "collapsed": false
   }
  },
  {
   "cell_type": "markdown",
   "source": [
    "# Functions applicable to all structures"
   ],
   "metadata": {
    "collapsed": false
   }
  },
  {
   "cell_type": "markdown",
   "source": [
    "### $hkl$ to $\\frac{\\sin\\theta}{\\lambda}$\n",
    "We find $\\frac{\\sin\\theta}{\\lambda}$ from $hkl$ by the interplanar spacing equation\n",
    "$$\n",
    "d=\\frac{a}{\\sqrt{ h^{2}+\\left( \\frac{a}{b}\\cdot k \\right)^{2}+\\left( \\frac{a}{c}\\cdot l \\right)^{2} }}\n",
    "$$\n",
    "which combined with Bragg's law gives\n",
    "$$\n",
    "\\frac{\\sin\\theta}{\\lambda}=\\frac{1}{2d}=\\frac{\\sqrt{ h^{2}+\\left( \\frac{a}{b}\\cdot k \\right)^{2}+\\left( \\frac{a}{c}\\cdot l \\right)^{2} }}{2a}\n",
    "$$"
   ],
   "metadata": {
    "collapsed": false
   }
  },
  {
   "cell_type": "code",
   "execution_count": 104,
   "outputs": [],
   "source": [
    "'''\n",
    "Calculates sin(theta)/lambda (which I call angle data) as a function of hkl given a,b,c\n",
    "@param abc string\n",
    "@param hkl string\n",
    "'''\n",
    "def sintheta_over_lambda(abc, hkl):\n",
    "    h = int(hkl[0])\n",
    "    k = int(hkl[1])\n",
    "    l = int(hkl[2])\n",
    "    a = abc[0]\n",
    "    b = abc[1]\n",
    "    c = abc[2]\n",
    "\n",
    "    return np.sqrt(h**2 + (a*k/b)**2 + (a*l/c)**2) / (2*a)\n",
    "\n"
   ],
   "metadata": {
    "collapsed": false
   }
  },
  {
   "cell_type": "code",
   "execution_count": 105,
   "outputs": [],
   "source": [
    "def sintheta(abc,hkl):\n",
    "    return l * sintheta_over_lambda(abc,hkl)\n",
    "\n",
    "def costheta(abc,hkl):\n",
    "    return np.sqrt(1 - sintheta(abc,hkl)**2)"
   ],
   "metadata": {
    "collapsed": false
   }
  },
  {
   "cell_type": "markdown",
   "source": [
    "### Lorentz polarization\n",
    "The Lorentz-polarization factor for powder XRD is $$\n",
    "\\frac{{1+\\cos(2\\theta)^{2}}}{\\sin(\\theta)^{2}\\cos(\\theta)}.\n",
    "$$\n",
    "where ${1+\\cos(2\\theta)^{2}}$ is the polarization factor and $\\frac{1}{\\sin(\\theta)^{2}\\cos(\\theta)}$ is the powder Lorentz."
   ],
   "metadata": {
    "collapsed": false
   }
  },
  {
   "cell_type": "code",
   "execution_count": 106,
   "outputs": [],
   "source": [
    "'''\n",
    "Lorentz-polarization factor at direction hkl\n",
    "@param hkl string\n",
    "'''\n",
    "def lorentz(hkl,abc):\n",
    "    return (2+ 4*costheta(abc,hkl)**4 - 4*costheta(abc,hkl)**2)/(sintheta(abc,hkl)**2 * costheta(abc,hkl))\n"
   ],
   "metadata": {
    "collapsed": false
   }
  },
  {
   "cell_type": "markdown",
   "source": [
    "### Coherent scattering atomic form factor\n",
    "$f(\\theta)$ is the coherent scattering factor. Its intensity as a function of $\\theta$ is analytically approximated by $N=5$ gaussians:\n",
    "$$f_0 (\\sin \\theta / \\lambda ) = \\sum _{i=1}^N a_i \\exp \\left ( −b_i \\frac {\\sin ^2 \\theta }{ \\lambda ^2} \\right ) + c.$$\n",
    "The 11 params $a_{i},b_{i},c$ are defined & cited up there."
   ],
   "metadata": {
    "collapsed": false
   }
  },
  {
   "cell_type": "code",
   "execution_count": 107,
   "outputs": [],
   "source": [
    "'''\n",
    "Atomic form factors of given atom (Coherent scattering)\n",
    " @param hkl string\n",
    " @param ai string\n",
    " @param bi string\n",
    " @param c float\n",
    " @param abc lattice parameters; required to calculate sin(theta)/lambda\n",
    "'''\n",
    "def f(hkl,ai,bi,c,abc):\n",
    "    f0 = c\n",
    "    for i in range(5):\n",
    "        f0 += ai[i] * np.exp(- bi[i] * sintheta_over_lambda(abc, hkl) ** 2)\n",
    "    return f0"
   ],
   "metadata": {
    "collapsed": false
   }
  },
  {
   "cell_type": "markdown",
   "source": [
    "### Exp of Atomic positional factor\n",
    "\n",
    "$$\\exp \\bigl [ 2\\pi \\mathrm {i} \\big ( hx_j + ky_j + lz_j \\big ) \\bigr ]$$"
   ],
   "metadata": {
    "collapsed": false
   }
  },
  {
   "cell_type": "code",
   "execution_count": 108,
   "outputs": [],
   "source": [
    "'''\n",
    "Exponent containing atomic positional params in structure factor\n",
    " @param hkl string\n",
    " #param xyz string\n",
    "'''\n",
    "def exphkl(hkl,xyz):\n",
    "    h = int(hkl[0])\n",
    "    k = int(hkl[1])\n",
    "    l = int(hkl[2])\n",
    "\n",
    "    ans = np.exp(2 * np.pi * 1j * (h*xyz[0] + k*xyz[1] + l*xyz[2]))\n",
    "\n",
    "    return ans"
   ],
   "metadata": {
    "collapsed": false
   }
  },
  {
   "cell_type": "markdown",
   "source": [
    "## Intensity\n",
    "\n",
    "$$I_{hkl}=\\mathrm{Multiplicity} \\cdot \\frac{{1+\\cos(2\\theta)^{2}}}{\\sin(\\theta)^{2}\\cos(\\theta)}\\cdot |S_{hkl}|^{2}$$\n",
    "Intensity is herein formulated with multiplicity, the powder lorentz-polarization, and the structure factor. We are interested only in hkl-dependent features. The absorption factor and Debye-Waller temperature factor are neglected."
   ],
   "metadata": {
    "collapsed": false
   }
  },
  {
   "cell_type": "code",
   "execution_count": 109,
   "outputs": [],
   "source": [
    "'''\n",
    " intensity of the peak hkl when La distribution described by x\n",
    " @param hkl string\n",
    " @param x float\n",
    " @param M dict\n",
    " @param S(hkl,x)\n",
    "'''\n",
    "def I(hkl,abc,x,M,S):\n",
    "    return M(hkl) * lorentz(hkl,abc) * (np.absolute(S(hkl, x)) ** 2)"
   ],
   "metadata": {
    "collapsed": false
   }
  },
  {
   "cell_type": "markdown",
   "source": [
    "# Structure-specific functions"
   ],
   "metadata": {
    "collapsed": false
   }
  },
  {
   "cell_type": "markdown",
   "source": [
    "### L2/3TO: Order parameter and structure factor\n",
    "Translate $x$ in $\\mathrm{La1_{x}La2_{\\frac{4}{3}-x}TiO_{3}}$ to Uchino's order parameter $\\sigma$.\n",
    "$$S=(x)F_{\\text{La1}}+\\left( \\frac{4}{3}-x \\right)F_{\\text{La2}}+F_{\\text{Ti}}+F_{\\text{O}}$$\n"
   ],
   "metadata": {
    "collapsed": false
   }
  },
  {
   "cell_type": "code",
   "execution_count": 110,
   "outputs": [],
   "source": [
    "'''\n",
    "Calculates Uchino's order parameter given x\n",
    "@param x float\n",
    "'''\n",
    "def sigma(x):\n",
    "    return 2-3*x\n",
    "\n",
    "def x_from_sigma(sigma):\n",
    "    return (2-sigma)/3"
   ],
   "metadata": {
    "collapsed": false
   }
  },
  {
   "cell_type": "code",
   "execution_count": 111,
   "outputs": [],
   "source": [
    "'''\n",
    "La2/3TiO3 Structure factor of the peak hkl, containing all basis atoms, when La distribution described by x\n",
    " @param hkl string\n",
    " @param x float\n",
    "'''\n",
    "def L2p3TO_S(hkl, x):\n",
    "    ans = x * f(hkl,a_La,b_La,c_La,LTO_abc) * exphkl(hkl,La1) \\\n",
    "          + (4/3 - x) * f(hkl,a_La,b_La,c_La,LTO_abc) * exphkl(hkl,La2) \\\n",
    "          + f(hkl,a_Ti,b_Ti,c_Ti,LTO_abc) * (exphkl(hkl, Ti1)+exphkl(hkl, Ti2)) \\\n",
    "          + f(hkl,a_O,b_O,c_O,LTO_abc) * (exphkl(hkl,O1) + exphkl(hkl,O2) + exphkl(hkl,O3) + exphkl(hkl,O4) + exphkl(hkl,O5) + exphkl(hkl,O6)) # six basis O atoms\n",
    "    return ans"
   ],
   "metadata": {
    "collapsed": false
   }
  },
  {
   "cell_type": "markdown",
   "source": [
    "### STO structure factor\n",
    "$$S=F_{\\text{Sr}}+F_{\\text{Ti}}+F_{\\text{O}_{1,2,3}$$"
   ],
   "metadata": {
    "collapsed": false
   }
  },
  {
   "cell_type": "code",
   "execution_count": 112,
   "outputs": [],
   "source": [
    "'''\n",
    "La2/3TiO3 Structure factor of the peak hkl, containing all basis atoms, when La distribution described by x\n",
    " @param hkl string\n",
    " @param x float (dummy var)\n",
    "'''\n",
    "def STO_S(hkl, x):\n",
    "    ans = f(hkl,a_Sr,b_Sr,c_Sr,abc_STO) * exphkl(hkl, pA) \\\n",
    "          + f(hkl,a_O,b_O,c_O,abc_STO) * (exphkl(hkl, pX1) + exphkl(hkl, pX2) + exphkl(hkl, pX3)) \\\n",
    "          + f(hkl,a_Ti,b_Ti,c_Ti,abc_STO) * exphkl(hkl, pB)\n",
    "    return ans"
   ],
   "metadata": {
    "collapsed": false
   }
  },
  {
   "cell_type": "code",
   "execution_count": 113,
   "outputs": [],
   "source": [
    "'''\n",
    "Plot normalized joan and vesta calculations for comparison\n",
    "'''\n",
    "def plotter(joan,vesta):\n",
    "\n",
    "    # normalize\n",
    "    joan = np.array(joan)\n",
    "    joan = joan/joan.sum()\n",
    "    vesta = np.array(vesta)\n",
    "    vesta = vesta/vesta.sum()\n",
    "\n",
    "    # calculate element-wise difference\n",
    "    dif = np.array(vesta) - np.array(joan)\n",
    "    print(f'Difference: {dif}')\n",
    "\n",
    "    ymin = 1.1 * min(0,np.min(dif))\n",
    "    ymax = 1.1 * max(np.max(joan),np.max(vesta))\n",
    "    x = np.arange(len(joan))\n",
    "    fig, (ax1, ax2) = plt.subplots(1, 2)\n",
    "    ax1.bar(x,joan,label='joan')\n",
    "    ax1.bar(x,dif,label='dif')\n",
    "    ax1.legend()\n",
    "    ax1.set_ylim([ymin, ymax])\n",
    "    ax2.bar(x,vesta,label='vesta')\n",
    "    ax2.legend()\n",
    "    ax2.set_ylim([ymin, ymax])\n",
    "\n",
    "    plt.show()"
   ],
   "metadata": {
    "collapsed": false
   }
  },
  {
   "cell_type": "markdown",
   "source": [
    "# Results"
   ],
   "metadata": {
    "collapsed": false
   }
  },
  {
   "cell_type": "markdown",
   "source": [
    "## STO Structure factor & Intensity match\n",
    "Ignoring anomalous dispersion"
   ],
   "metadata": {
    "collapsed": false
   }
  },
  {
   "cell_type": "code",
   "execution_count": 114,
   "outputs": [
    {
     "name": "stdout",
     "output_type": "stream",
     "text": [
      "Difference: [-2.70948567e-08 -1.03901692e-07  5.02823441e-08  4.82729567e-08\n",
      " -3.85166747e-08  7.09579229e-08]\n"
     ]
    },
    {
     "data": {
      "text/plain": "<Figure size 640x480 with 2 Axes>",
      "image/png": "[encoded data removed]"
     },
     "metadata": {},
     "output_type": "display_data"
    }
   ],
   "source": [
    "# Joan STO structure factors\n",
    "x = 1 # dummy\n",
    "s001 = np.absolute(STO_S('001',x))\n",
    "s111 = np.absolute(STO_S('111',x))\n",
    "s110 = np.absolute(STO_S('110',x))\n",
    "s201 = np.absolute(STO_S('201',x))\n",
    "s211 = np.absolute(STO_S('211',x))\n",
    "s200 = np.absolute(STO_S('200',x))\n",
    "s_joan = (s001, s110, s111, s200, s201, s211)\n",
    "\n",
    "# VESTA STO structure factors\n",
    "s_vesta = (\n",
    "    7.92045,\n",
    "    41.5026,\n",
    "    29.4554,\n",
    "    56.166,\n",
    "    8.56659,\n",
    "    34.2936,\n",
    ")\n",
    "\n",
    "plotter(s_joan,s_vesta)"
   ],
   "metadata": {
    "collapsed": false
   }
  },
  {
   "cell_type": "code",
   "execution_count": 115,
   "outputs": [
    {
     "name": "stdout",
     "output_type": "stream",
     "text": [
      "Difference: [ 2.34056188e-07  4.50430843e-06  8.09525533e-07  1.72327426e-06\n",
      " -5.67428341e-08  1.54257137e-06  1.08212213e-06  2.08183345e-07\n",
      " -1.13269335e-05  5.92888913e-07  1.11218371e-07  5.75527748e-07]\n"
     ]
    },
    {
     "data": {
      "text/plain": "<Figure size 640x480 with 2 Axes>",
      "image/png": "[encoded data removed]"
     },
     "metadata": {},
     "output_type": "display_data"
    }
   ],
   "source": [
    "# Joan STO intensities\n",
    "x = 1 # dummy\n",
    "i001 = I('001',abc_STO,x,M_cub,STO_S)\n",
    "i111 = I('111',abc_STO,x,M_cub,STO_S)\n",
    "i110 = I('110',abc_STO,x,M_cub,STO_S)\n",
    "i201 = I('201',abc_STO,x,M_cub,STO_S)\n",
    "i211 = I('211',abc_STO,x,M_cub,STO_S)\n",
    "i200 = I('200',abc_STO,x,M_cub,STO_S)\n",
    "i220 = I('220',abc_STO,x,M_cub,STO_S)\n",
    "i221 = I('221',abc_STO,x,M_cub,STO_S)\n",
    "i300 = I('300',abc_STO,x,M_cub,STO_S)\n",
    "i310 = I('310',abc_STO,x,M_cub,STO_S)\n",
    "i311 = I('311',abc_STO,x,M_cub,STO_S)\n",
    "i222 = I('222',abc_STO,x,M_cub,STO_S)\n",
    "\n",
    "i_joan = (i001,i110,i111,i200,i201,i211,i220,i221,i300,i310,i311,i222)\n",
    "\n",
    "\n",
    "# VESTA STO intensities without anomalous dispersion\n",
    "i_vesta = (\n",
    "    3.8539,\n",
    "    100,\n",
    "    21.2008,\n",
    "    41.1848,\n",
    "    2.9237,\n",
    "    37.4292,\n",
    "    23.1229,\n",
    "    1.4643,\n",
    "    0.3631,\n",
    "    15.8968,\n",
    "    6.3035,\n",
    "    7.7040,\n",
    ")\n",
    "\n",
    "plotter(i_joan,i_vesta)"
   ],
   "metadata": {
    "collapsed": false
   }
  },
  {
   "cell_type": "markdown",
   "source": [
    "## La2p3TiO3 Structure factor & intensity match"
   ],
   "metadata": {
    "collapsed": false
   }
  },
  {
   "cell_type": "code",
   "execution_count": 116,
   "outputs": [
    {
     "name": "stdout",
     "output_type": "stream",
     "text": [
      "Difference: [ 0.00445422  0.00267055  0.00084553 -0.00504167 -0.00140615 -0.00152248]\n"
     ]
    },
    {
     "data": {
      "text/plain": "<Figure size 640x480 with 2 Axes>",
      "image/png": "[encoded data removed]"
     },
     "metadata": {},
     "output_type": "display_data"
    }
   ],
   "source": [
    "# Structure factor comparison: Near completely ordered\n",
    "x = 0.353\n",
    "\n",
    "# Joan La2/3TiO3 structure factors\n",
    "s001 = np.absolute(L2p3TO_S('001',x))\n",
    "s111 = np.absolute(L2p3TO_S('111',x))\n",
    "s110 = np.absolute(L2p3TO_S('110',x))\n",
    "s201 = np.absolute(L2p3TO_S('201',x))\n",
    "s211 = np.absolute(L2p3TO_S('211',x))\n",
    "s200 = np.absolute(L2p3TO_S('200',x))\n",
    "s_joan = (s001, s110, s111, s200, s201, s211)\n",
    "\n",
    "# VESTA Ls2/3TiO3 structure factors\n",
    "s_vesta = (\n",
    "    34.4102,\n",
    "    80.5659,\n",
    "    23.8959,\n",
    "    106.264,\n",
    "    24.3273,\n",
    "    24.2415,\n",
    ")\n",
    "\n",
    "plotter(s_joan,s_vesta)\n"
   ],
   "metadata": {
    "collapsed": false
   }
  },
  {
   "cell_type": "code",
   "execution_count": 117,
   "outputs": [
    {
     "name": "stdout",
     "output_type": "stream",
     "text": [
      "Difference: [-0.00014496  0.0044216   0.00168407 -0.0069819   0.00232552 -0.00130432]\n"
     ]
    },
    {
     "data": {
      "text/plain": "<Figure size 640x480 with 2 Axes>",
      "image/png": "[encoded data removed]"
     },
     "metadata": {},
     "output_type": "display_data"
    }
   ],
   "source": [
    "# Structure factor comparision: Completely unordered\n",
    "x = 2/3\n",
    "\n",
    "# Joan La2/3TiO3 structure factors\n",
    "s001 = np.absolute(L2p3TO_S('001',x))\n",
    "s111 = np.absolute(L2p3TO_S('111',x))\n",
    "s110 = np.absolute(L2p3TO_S('110',x))\n",
    "s201 = np.absolute(L2p3TO_S('201',x))\n",
    "s211 = np.absolute(L2p3TO_S('211',x))\n",
    "s200 = np.absolute(L2p3TO_S('200',x))\n",
    "s_joan = (s001, s110, s111, s200, s201, s211)\n",
    "\n",
    "# VESTA Ls2/3TiO3 structure factors\n",
    "s_vesta = (\n",
    "    0.284413,\n",
    "    80.6213,\n",
    "    4.15069,\n",
    "    106.384,\n",
    "    0.464089,\n",
    "    0.699209,\n",
    ")\n",
    "\n",
    "plotter(s_joan,s_vesta)"
   ],
   "metadata": {
    "collapsed": false
   }
  },
  {
   "cell_type": "code",
   "execution_count": 118,
   "outputs": [
    {
     "name": "stdout",
     "output_type": "stream",
     "text": [
      "Difference: [ 0.00608542  0.00028305  0.0005589   0.00097977  0.00089455  0.00092036\n",
      "  0.00215526 -0.00118053 -0.00361074 -0.00051726 -0.00514417 -0.00054883\n",
      " -0.00087578]\n"
     ]
    },
    {
     "data": {
      "text/plain": "<Figure size 640x480 with 2 Axes>",
      "image/png": "[encoded data removed]"
     },
     "metadata": {},
     "output_type": "display_data"
    }
   ],
   "source": [
    "# Structure factor comparison: Near completely ordered\n",
    "x = 0.353\n",
    "i001 = I('001', LTO_abc, x,M_double_perov, L2p3TO_S)\n",
    "i002 = I('002', LTO_abc, x,M_double_perov, L2p3TO_S)\n",
    "i100 = I('100', LTO_abc, x,M_double_perov, L2p3TO_S)\n",
    "i010 = I('010', LTO_abc, x,M_double_perov, L2p3TO_S)\n",
    "i101 = I('101', LTO_abc, x,M_double_perov, L2p3TO_S)\n",
    "i011 = I('011', LTO_abc, x,M_double_perov, L2p3TO_S)\n",
    "i102 = I('102', LTO_abc, x,M_double_perov, L2p3TO_S)\n",
    "i012 = I('012', LTO_abc, x,M_double_perov, L2p3TO_S)\n",
    "i110 = I('110', LTO_abc, x,M_double_perov, L2p3TO_S)\n",
    "i111 = I('111', LTO_abc, x,M_double_perov, L2p3TO_S)\n",
    "i200 = I('200', LTO_abc, x,M_double_perov, L2p3TO_S)\n",
    "i201 = I('201', LTO_abc, x,M_double_perov, L2p3TO_S)\n",
    "i211 = I('211', LTO_abc, x,M_double_perov, L2p3TO_S)\n",
    "\n",
    "i_joan = (i001,i002,i100,i010,i101,i011,i102,i012,i110,i111,i200,i201,i211,)\n",
    "\n",
    "# VESTA STO intensities without anomalous dispersion\n",
    "i_vesta = (\n",
    "    78.4035,\n",
    "    4.5339,\n",
    "    4.2549,\n",
    "    4.4403,\n",
    "    27.4602,\n",
    "    24.4494,\n",
    "    100,\n",
    "    96.5008,\n",
    "    96.0481,\n",
    "    14.8313,\n",
    "    37.6612,\n",
    "    3.6716,\n",
    "    5.6252,\n",
    ")\n",
    "\n",
    "plotter(i_joan,i_vesta)"
   ],
   "metadata": {
    "collapsed": false
   }
  },
  {
   "cell_type": "code",
   "execution_count": 130,
   "outputs": [
    {
     "data": {
      "text/plain": "<Figure size 640x480 with 1 Axes>",
      "image/png": "[encoded data removed]"
     },
     "metadata": {},
     "output_type": "display_data"
    }
   ],
   "source": [
    "x = np.linspace(1/3,2/3)\n",
    "i001 = I('001', LTO_abc, x,M_double_perov, L2p3TO_S)\n",
    "\n",
    "i101 = I('101', LTO_abc, x,M_double_perov, L2p3TO_S) \\\n",
    "     + I('011', LTO_abc, x,M_double_perov, L2p3TO_S)\n",
    "\n",
    "i111 = I('111', LTO_abc, x,M_double_perov, L2p3TO_S) \\\n",
    "     + I('003', LTO_abc, x,M_double_perov, L2p3TO_S)\n",
    "\n",
    "i110 = I('110', LTO_abc, x, M_double_perov, L2p3TO_S) \\\n",
    "     + I('102', LTO_abc, x, M_double_perov, L2p3TO_S) \\\n",
    "     + I('012', LTO_abc, x, M_double_perov, L2p3TO_S)\n",
    "\n",
    "i200 = I('200', LTO_abc, x, M_double_perov, L2p3TO_S) \\\n",
    "     + I('020', LTO_abc, x, M_double_perov, L2p3TO_S) \\\n",
    "     + I('004', LTO_abc, x, M_double_perov, L2p3TO_S)\n",
    "\n",
    "i201 = I('201', LTO_abc, x, M_double_perov, L2p3TO_S) \\\n",
    "     + I('021', LTO_abc, x, M_double_perov, L2p3TO_S) \\\n",
    "     + I('113', LTO_abc, x, M_double_perov, L2p3TO_S)\n",
    "\n",
    "i211 = I('211', LTO_abc, x, M_double_perov, L2p3TO_S) \\\n",
    "     + I('121', LTO_abc, x, M_double_perov, L2p3TO_S)\n",
    "\n",
    "plt.plot(sigma(x),i001/i110,label='001/110')\n",
    "plt.plot(sigma(x),i101/i110,label='101/110')\n",
    "plt.plot(sigma(x),i111/i110,label='111/110')\n",
    "plt.plot(sigma(x),i211/i200,label='211/200')\n",
    "plt.plot(sigma(x),i201/i200,label='201/200')\n",
    "\n",
    "\n",
    "plt.legend()\n",
    "plt.savefig('/Users/beep/Desktop/La2-3/La2-3_Uchino_Fig5_reconstruction')\n"
   ],
   "metadata": {
    "collapsed": false
   }
  },
  {
   "cell_type": "markdown",
   "source": [
    "# Intensity predictions"
   ],
   "metadata": {
    "collapsed": false
   }
  },
  {
   "cell_type": "markdown",
   "source": [
    "## Thin film XRD intensity\n",
    "\n",
    "$$I_{hkl}=\\frac{{1+\\cos(2\\theta)^{2}}}{\\sin(\\theta)\\cos(\\theta)}\\cdot |S_{hkl}|^{2}$$\n",
    "Modifications to powder XRD:\n",
    "- the multiplicity factor is now uniformly 1 for all hkl\n",
    "- the polarization factor stays\n",
    "- the thin film Lorentz factor is $\\frac{1}{\\sin(\\theta)\\cos(\\theta)}$"
   ],
   "metadata": {
    "collapsed": false
   }
  },
  {
   "cell_type": "code",
   "execution_count": 120,
   "outputs": [],
   "source": [
    "'''\n",
    " intensity of the peak hkl when La distribution described by x\n",
    " @param hkl string\n",
    " @param x float\n",
    " @param M dict\n",
    " @param S(hkl,x)\n",
    "'''\n",
    "def thin_I(hkl,abc,x,S):\n",
    "    return lorentz(hkl,abc) * sintheta(abc,hkl) *  (np.absolute(S(hkl, x)) ** 2)"
   ],
   "metadata": {
    "collapsed": false
   }
  },
  {
   "cell_type": "code",
   "execution_count": 121,
   "outputs": [],
   "source": [
    "'''\n",
    "La2p3TiO3 intensity shortcut. Increase robustness, decrease mem efficiency.\n",
    "- using lorentz v1.\n",
    "@param s input order param directly\n",
    "'''\n",
    "def LaI(hkl,s):\n",
    "    return thin_I(hkl,LTO_abc,x_from_sigma(s),L2p3TO_S)"
   ],
   "metadata": {
    "collapsed": false
   }
  },
  {
   "cell_type": "code",
   "execution_count": 122,
   "outputs": [],
   "source": [
    "# measured_small_peak_1 = 16.8\n",
    "measured_small_peak_1 = 11.5\n",
    "measured_small_peak_2 = 1.5\n",
    "measured_big_peak_1 = 73.4\n",
    "measured_big_peak_2 = 362.5\n",
    "measured_big_peak_3 = 9.1\n",
    "measured_big_peak_4 = 64.2\n",
    "\n",
    "# for intercepting\n",
    "s = np.linspace(0,1,100)"
   ],
   "metadata": {
    "collapsed": false
   }
  },
  {
   "cell_type": "code",
   "execution_count": 123,
   "outputs": [],
   "source": [
    "'''\n",
    "Finds intersection of an intensity ratio function with a horizontal line. Oh, it also plots the curve and point of intersection in a colour you like.\n",
    "@param target_y The horizontal line.\n",
    "@param x_coords\n",
    "@param y_coords\n",
    "@param color Matplotlib color character.\n",
    "'''\n",
    "def plot_with_intersection(target_y,x_coords,y_coords,color):\n",
    "    hline = target_y * np.ones(len(y_coords))\n",
    "    idx = np.argwhere(np.diff(np.sign(y_coords-hline)))[0,0]\n",
    "\n",
    "    plt.plot(x_coords,y_coords,color)\n",
    "    plt.plot(x_coords[idx],y_coords[idx],color+'o',label='{:.2f}'.format(x_coords[idx]))\n",
    "    plt.legend()\n",
    "    print(f'Order parameter ','{:.2f}'.format(x_coords[idx]))\n"
   ],
   "metadata": {
    "collapsed": false
   }
  },
  {
   "cell_type": "code",
   "execution_count": 124,
   "outputs": [
    {
     "name": "stdout",
     "output_type": "stream",
     "text": [
      "Order parameter  0.41\n",
      "Order parameter  0.45\n",
      "Order parameter  0.33\n",
      "Order parameter  0.20\n"
     ]
    },
    {
     "data": {
      "text/plain": "<Figure size 640x480 with 1 Axes>",
      "image/png": "[encoded data removed]"
     },
     "metadata": {},
     "output_type": "display_data"
    }
   ],
   "source": [
    "plot_with_intersection(\n",
    "    measured_small_peak_1/measured_big_peak_2,\n",
    "    s,\n",
    "    LaI('001',s)\n",
    "    /(LaI('004',s)\n",
    "    +LaI('200',s)\n",
    "    +LaI('020',s)\n",
    "    ),\n",
    "    'b'\n",
    ")\n",
    "\n",
    "plot_with_intersection(\n",
    "    measured_small_peak_1/measured_big_peak_4,\n",
    "    s,\n",
    "    LaI('001',s)\n",
    "    /(LaI('008',s)\n",
    "    +LaI('400',s)\n",
    "    +LaI('040',s)\n",
    "    ),\n",
    "    'r'\n",
    ")\n",
    "\n",
    "plot_with_intersection(\n",
    "    measured_small_peak_1/measured_big_peak_3,\n",
    "    s,\n",
    "    LaI('001',s)\n",
    "    /(LaI('006',s)\n",
    "    +LaI('300',s)\n",
    "    +LaI('030',s)\n",
    "    ),\n",
    "    'c'\n",
    ")\n",
    "\n",
    "plot_with_intersection(\n",
    "    measured_small_peak_1/measured_big_peak_1,\n",
    "    s,\n",
    "    LaI('001',s)\n",
    "    /(LaI('002',s)\n",
    "    +LaI('100',s)\n",
    "    +LaI('010',s)\n",
    "    ),\n",
    "    'k'\n",
    ")\n",
    "plt.axvline(0.325)\n",
    "\n",
    "plt.savefig('/Users/beep/Desktop/La2-3/La2-3_Fig6_small1.svg')"
   ],
   "metadata": {
    "collapsed": false
   }
  },
  {
   "cell_type": "code",
   "execution_count": 125,
   "outputs": [
    {
     "name": "stdout",
     "output_type": "stream",
     "text": [
      "Order parameter  0.35\n",
      "Order parameter  0.37\n",
      "Order parameter  0.29\n",
      "Order parameter  0.16\n"
     ]
    },
    {
     "data": {
      "text/plain": "<Figure size 640x480 with 1 Axes>",
      "image/png": "[encoded data removed]"
     },
     "metadata": {},
     "output_type": "display_data"
    }
   ],
   "source": [
    "s = np.linspace(0,1)\n",
    "\n",
    "plot_with_intersection(\n",
    "    measured_small_peak_2/measured_big_peak_2,\n",
    "    s,\n",
    "         LaI('003',s)\n",
    "       /(LaI('004',s)\n",
    "        +LaI('200',s)\n",
    "        +LaI('020',s)\n",
    "        ),\n",
    "         'b'\n",
    ")\n",
    "\n",
    "plot_with_intersection(\n",
    "    measured_small_peak_2/measured_big_peak_4,\n",
    "    s,\n",
    "         LaI('003',s)\n",
    "       /(LaI('008',s)\n",
    "        +LaI('400',s)\n",
    "        +LaI('040',s)\n",
    "        ),\n",
    "         'r'\n",
    ")\n",
    "\n",
    "plot_with_intersection(\n",
    "    measured_small_peak_2/measured_big_peak_3,\n",
    "    s,\n",
    "    LaI('003',s)\n",
    "    /(LaI('006',s)\n",
    "    +LaI('300',s)\n",
    "    +LaI('030',s)\n",
    "    ),\n",
    "    'c'\n",
    ")\n",
    "\n",
    "plot_with_intersection(\n",
    "    measured_small_peak_2/measured_big_peak_1,\n",
    "    s,\n",
    "    LaI('003',s)\n",
    "    /(LaI('002',s)\n",
    "    +LaI('100',s)\n",
    "    +LaI('010',s)\n",
    "    ),\n",
    "    'k'\n",
    ")\n",
    "\n",
    "plt.axvline(0.325)\n",
    "\n",
    "plt.savefig('/Users/beep/Desktop/La2-3/La2-3_Fig6_small2.svg')"
   ],
   "metadata": {
    "collapsed": false
   }
  },
  {
   "cell_type": "code",
   "execution_count": 125,
   "outputs": [],
   "source": [],
   "metadata": {
    "collapsed": false
   }
  }
 ],
 "metadata": {
  "kernelspec": {
   "display_name": "Python 3",
   "language": "python",
   "name": "python3"
  },
  "language_info": {
   "codemirror_mode": {
    "name": "ipython",
    "version": 2
   },
   "file_extension": ".py",
   "mimetype": "text/x-python",
   "name": "python",
   "nbconvert_exporter": "python",
   "pygments_lexer": "ipython2",
   "version": "2.7.6"
  }
 },
 "nbformat": 4,
 "nbformat_minor": 0
}
