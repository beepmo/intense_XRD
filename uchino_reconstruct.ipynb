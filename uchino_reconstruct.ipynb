{
 "cells": [
  {
   "cell_type": "code",
   "execution_count": 57,
   "metadata": {
    "collapsed": true
   },
   "outputs": [],
   "source": [
    "import numpy as np\n",
    "import matplotlib.pyplot as plt"
   ]
  },
  {
   "cell_type": "markdown",
   "source": [
    "We formulate $\\mathrm{La1_{x}La2_{\\frac{4}{3}-x}TiO_{3}}$."
   ],
   "metadata": {
    "collapsed": false
   }
  },
  {
   "cell_type": "markdown",
   "source": [
    "# Empirically determined parameters"
   ],
   "metadata": {
    "collapsed": false
   }
  },
  {
   "cell_type": "code",
   "execution_count": 58,
   "outputs": [],
   "source": [
    "# X-ray wavelength lambda (A)\n",
    "l = 1.54059"
   ],
   "metadata": {
    "collapsed": false
   }
  },
  {
   "cell_type": "code",
   "execution_count": 59,
   "outputs": [],
   "source": [
    "# Parameters of coherent scattering analytically approximated by 5 Gaussians\n",
    "# https://doi.org/10.1107/S0108767394013292\n",
    "\n",
    "# Oxygen\n",
    "a_O = (\n",
    "    2.960427,\n",
    "    2.508818,\n",
    "    0.637853,\n",
    "    0.722838,\n",
    "    1.142756,\n",
    ")\n",
    "b_O = (\n",
    "    14.182259,\n",
    "    5.936858,\n",
    "    0.112726,\n",
    "    34.958481,\n",
    "    0.390240,\n",
    ")\n",
    "c_O = 0.027014\n",
    "\n",
    "\n",
    "# Lanthanum\n",
    "a_La = (\n",
    "    19.966018,\n",
    "    27.329654,\n",
    "    11.018425,\n",
    "    3.086696,\n",
    "    17.335454,\n",
    ")\n",
    "b_La = (\n",
    "    3.197408,\n",
    "    0.003446,\n",
    "    19.955492,\n",
    "    141.381979,\n",
    "    0.341817,\n",
    ")\n",
    "c_La = -21.745489\n",
    "\n",
    "\n",
    "# Titanium\n",
    "a_Ti = (\n",
    "    9.818524,\n",
    "    1.522646,\n",
    "    1.703101,\n",
    "    1.768774,\n",
    "    7.082555,\n",
    ")\n",
    "b_Ti = (\n",
    "    8.001879,\n",
    "    0.029763,\n",
    "    39.885423,\n",
    "    120.158000,\n",
    "    0.532405,\n",
    ")\n",
    "c_Ti = 0.102473\n",
    "\n",
    "\n",
    "# Strontium\n",
    "a_Sr = (\n",
    "    17.730219,\n",
    "    9.795867,\n",
    "    6.099763,\n",
    "    2.620025,\n",
    "    0.600053,\n",
    ")\n",
    "b_Sr = (\n",
    "    1.563060,\n",
    "    14.310868,\n",
    "    0.120574,\n",
    "    135.771315,\n",
    "    0.120574,\n",
    ")\n",
    "c_Sr = 1.140251"
   ],
   "metadata": {
    "collapsed": false
   }
  },
  {
   "cell_type": "code",
   "execution_count": 60,
   "outputs": [],
   "source": [
    "# La1_{4/3-x}La_{x}TiO3\n",
    "# src: cif source article\n",
    "\n",
    "# (x,y,z)\n",
    "La1 = (0,0,0.5)\n",
    "La2 = (0,0,0)\n",
    "Ti = (0.5,0.5,0.2594)\n",
    "O1 = (0.5,0.5,0.5)\n",
    "O2 = (0,0.5,0.23)\n",
    "O3 = (0.5,0,0.2412)\n",
    "O4 = (0.5,0.5,0)\n",
    "\n",
    "# Lattice parameters\n",
    "a = 3.87890\n",
    "b = 3.86680\n",
    "c = 7.78660\n",
    "LTO_abc = (a, b, c)\n",
    "\n",
    "# Multiplicities\n",
    "'''\n",
    "Multiplicity of a ≠ b ≠ c/2 double perovskite\n",
    "'''\n",
    "def M_double_perov(hkl):\n",
    "\n",
    "    # count how many of h,k,l are not zero\n",
    "    nonzero_cnt = 0\n",
    "    for i in hkl:\n",
    "        if i != '0':\n",
    "            nonzero_cnt += 1\n",
    "\n",
    "    return np.power(2,nonzero_cnt)"
   ],
   "metadata": {
    "collapsed": false
   }
  },
  {
   "cell_type": "markdown",
   "source": [
    "# Functions applicable to all structures"
   ],
   "metadata": {
    "collapsed": false
   }
  },
  {
   "cell_type": "markdown",
   "source": [
    "### $hkl$ to $\\frac{\\sin\\theta}{\\lambda}$\n",
    "We find $\\frac{\\sin\\theta}{\\lambda}$ from $hkl$ by the interplanar spacing equation\n",
    "$$\n",
    "d=\\frac{a}{\\sqrt{ h^{2}+\\left( \\frac{a}{b}\\cdot k \\right)^{2}+\\left( \\frac{a}{c}\\cdot l \\right)^{2} }}\n",
    "$$\n",
    "which combined with Bragg's law gives\n",
    "$$\n",
    "\\frac{\\sin\\theta}{\\lambda}=\\frac{1}{2d}=\\frac{\\sqrt{ h^{2}+\\left( \\frac{a}{b}\\cdot k \\right)^{2}+\\left( \\frac{a}{c}\\cdot l \\right)^{2} }}{2a}\n",
    "$$"
   ],
   "metadata": {
    "collapsed": false
   }
  },
  {
   "cell_type": "code",
   "execution_count": 61,
   "outputs": [],
   "source": [
    "'''\n",
    "Calculates sin(theta)/lambda (which I call angle data) as a function of hkl given a,b,a\n",
    "    @param hkl tuple\n",
    "'''\n",
    "def sintheta_over_lambda(abc, hkl):\n",
    "    h = hkl[0]\n",
    "    k = hkl[1]\n",
    "    l = hkl[2]\n",
    "    a = abc[0]\n",
    "    b = abc[1]\n",
    "    c = abc[2]\n",
    "\n",
    "    return np.sqrt(h**2 + (a*k/b)**2 + (a*l/c)**2) / (2*a)\n",
    "\n"
   ],
   "metadata": {
    "collapsed": false
   }
  },
  {
   "cell_type": "code",
   "execution_count": 62,
   "outputs": [],
   "source": [
    "def sintheta(abc,hkl):\n",
    "    return l * sintheta_over_lambda(abc,hkl)\n",
    "\n",
    "def costheta(abc,hkl):\n",
    "    return np.sqrt(1 - sintheta(abc,hkl)**2)"
   ],
   "metadata": {
    "collapsed": false
   }
  },
  {
   "cell_type": "markdown",
   "source": [
    "### Lorentz polarization\n",
    "We formulate the Lorentz factor as $$\n",
    "\\frac{{1+\\cos(\\theta)^{2}}}{\\sin(\\theta)^{2}\\cos(\\theta)}.\n",
    "$$\n",
    "src: XRD book"
   ],
   "metadata": {
    "collapsed": false
   }
  },
  {
   "cell_type": "code",
   "execution_count": 63,
   "outputs": [],
   "source": [
    "'''\n",
    "Lorentz-polarization factor at direction hkl\n",
    "    @param hkl tuple\n",
    "'''\n",
    "def lorentz(hkl,abc):\n",
    "    return (1+costheta(abc,hkl)**2)/(sintheta(abc,hkl)**2 * costheta(abc,hkl))\n"
   ],
   "metadata": {
    "collapsed": false
   }
  },
  {
   "cell_type": "markdown",
   "source": [
    "### Coherent scattering atomic form factor\n",
    "$f(\\theta)$ is the coherent scattering factor. Its intensity as a function of $\\theta$ is analytically approximated by $N=5$ gaussians:\n",
    "$$f_0 (\\sin \\theta / \\lambda ) = \\sum _{i=1}^N a_i \\exp \\left ( −b_i \\frac {\\sin ^2 \\theta }{ \\lambda ^2} \\right ) + c.$$\n",
    "The 11 params $a_{i},b_{i},c$ are defined & cited up there."
   ],
   "metadata": {
    "collapsed": false
   }
  },
  {
   "cell_type": "code",
   "execution_count": 64,
   "outputs": [],
   "source": [
    "'''\n",
    "Atomic form factors of given atom (Coherent scattering)\n",
    " @param hkl tuple\n",
    " @param ai tuple\n",
    " @param bi tuple\n",
    " @param c float\n",
    " @param abc lattice parameters; required to calculate sin(theta)/lambda\n",
    "'''\n",
    "def f(hkl,ai,bi,c,abc):\n",
    "    f0 = c\n",
    "    for i in range(5):\n",
    "        f0 += ai[i] * np.exp(- bi[i] * sintheta_over_lambda(abc, hkl) ** 2)\n",
    "    return f0"
   ],
   "metadata": {
    "collapsed": false
   }
  },
  {
   "cell_type": "markdown",
   "source": [
    "### Exp of Atomic positional factor\n",
    "\n",
    "$$\\exp \\bigl [ 2\\pi \\mathrm {i} \\big ( hx_j + ky_j + lz_j \\big ) \\bigr ]$$"
   ],
   "metadata": {
    "collapsed": false
   }
  },
  {
   "cell_type": "code",
   "execution_count": 65,
   "outputs": [],
   "source": [
    "'''\n",
    "Exponent containing atomic positional params in structure factor\n",
    " @param hkl tuple\n",
    " #param xyz tuple\n",
    "'''\n",
    "def exphkl(hkl,xyz):\n",
    "    h = hkl[0]\n",
    "    k = hkl[1]\n",
    "    l = hkl[2]\n",
    "\n",
    "    ans = np.exp(2 * np.pi * 1j * (h*xyz[0] + k*xyz[1] + l*xyz[2]))\n",
    "\n",
    "    return ans"
   ],
   "metadata": {
    "collapsed": false
   }
  },
  {
   "cell_type": "markdown",
   "source": [
    "## Intensity\n",
    "\n",
    "$$I_{hkl}=\\mathrm{Multiplicity} \\cdot \\text{Lorentz }\\cdot |S_{hkl}|^{2}$$"
   ],
   "metadata": {
    "collapsed": false
   }
  },
  {
   "cell_type": "code",
   "execution_count": 66,
   "outputs": [],
   "source": [
    "'''\n",
    " intensity of the peak hkl when La distribution described by x\n",
    " @param hkl tuple\n",
    " @param x float\n",
    " @param M dict\n",
    " @param S(hkl,x)\n",
    "'''\n",
    "def I(hkl,abc,x,M,S):\n",
    "    return M(hkl) * lorentz(hkl,abc) * (np.absolute(S(hkl, x)) ** 2)"
   ],
   "metadata": {
    "collapsed": false
   }
  },
  {
   "cell_type": "markdown",
   "source": [
    "# Structure-specific functions"
   ],
   "metadata": {
    "collapsed": false
   }
  },
  {
   "cell_type": "markdown",
   "source": [
    "### L2/3TO: Order parameter and structure factor\n",
    "Translate $x$ in $\\mathrm{La1_{x}La2_{\\frac{4}{3}-x}TiO_{3}}$ to Uchino's order parameter $\\sigma$.\n",
    "$$S=(x)F_{\\text{La1}}+\\left( \\frac{4}{3}-x \\right)F_{\\text{La2}}+F_{\\text{Ti}}+F_{\\text{O}}$$\n"
   ],
   "metadata": {
    "collapsed": false
   }
  },
  {
   "cell_type": "code",
   "execution_count": 67,
   "outputs": [],
   "source": [
    "'''\n",
    "Calculates Uchino's order parameter given x\n",
    "@param x float\n",
    "'''\n",
    "def sigma(x):\n",
    "    return 2-3*x\n",
    "\n",
    "def x_from_sigma(sigma):\n",
    "    return (2-sigma)/3"
   ],
   "metadata": {
    "collapsed": false
   }
  },
  {
   "cell_type": "code",
   "execution_count": 68,
   "outputs": [],
   "source": [
    "'''\n",
    "La2/3TiO3 Structure factor of the peak hkl, containing all basis atoms, when La distribution described by x\n",
    " @param hkl tuple\n",
    " @param x float\n",
    "'''\n",
    "def L2p3TO_S(hkl, x):\n",
    "    ans = x * f(hkl,a_La,b_La,c_La,LTO_abc) * exphkl(hkl,La1) \\\n",
    "          + (4/3 - x) * f(hkl,a_La,b_La,c_La,LTO_abc) * exphkl(hkl,La2) \\\n",
    "          + f(hkl,a_Ti,b_Ti,c_Ti,LTO_abc) * exphkl(hkl,Ti) \\\n",
    "          + f(hkl,a_O,b_O,c_O,LTO_abc) * (exphkl(hkl,O1) + exphkl(hkl,O2) + exphkl(hkl,O3) + exphkl(hkl,O4)) # four basis O atoms\n",
    "    return ans"
   ],
   "metadata": {
    "collapsed": false
   }
  },
  {
   "cell_type": "markdown",
   "source": [
    "# Intensity predictions"
   ],
   "metadata": {
    "collapsed": false
   }
  },
  {
   "cell_type": "code",
   "execution_count": 69,
   "outputs": [
    {
     "data": {
      "text/plain": "<Figure size 640x480 with 1 Axes>",
      "image/png": "[encoded data removed]"
     },
     "metadata": {},
     "output_type": "display_data"
    }
   ],
   "source": [
    "x = np.linspace(1/3,2/3,num=100)\n",
    "s = sigma(x)\n",
    "\n",
    "i001 = I((0,0,1), LTO_abc, x, M_double_perov, L2p3TO_S)\n",
    "\n",
    "i101 = I((1,0,1), LTO_abc, x, M_double_perov, L2p3TO_S)\n",
    "\n",
    "i111 = I((1,1,1), LTO_abc, x, M_double_perov, L2p3TO_S)\n",
    "\n",
    "i110 = I((1,1,0), LTO_abc, x, M_double_perov, L2p3TO_S) \\\n",
    "     + I((1,0,2), LTO_abc, x, M_double_perov, L2p3TO_S) \\\n",
    "     + I((0,1,2), LTO_abc, x, M_double_perov, L2p3TO_S)\n",
    "i201 = I((2,0,1), LTO_abc, x, M_double_perov, L2p3TO_S)\n",
    "i211 = I((2,1,1), LTO_abc, x, M_double_perov, L2p3TO_S)\n",
    "i200 = I((2,0,0), LTO_abc, x, M_double_perov, L2p3TO_S)\n",
    "\n",
    "plt.plot(s, i001/i110,label='(001) / (110)')\n",
    "plt.plot(s, i101/i110,label='(101) / (110)')\n",
    "plt.plot(s, i111/i110,label='(111) / (110)')\n",
    "\n",
    "plt.plot(s, i201/i200,label='(201) / (200)')\n",
    "plt.plot(s, i211/i200,label='(211) / (200)')\n",
    "\n",
    "plt.legend()\n",
    "plt.savefig('/Users/beep/Desktop/La2-3/La2-3_Uchino_Fig5_reconstruction')"
   ],
   "metadata": {
    "collapsed": false
   }
  },
  {
   "cell_type": "code",
   "execution_count": 75,
   "outputs": [
    {
     "data": {
      "text/plain": "[<matplotlib.lines.Line2D at 0x13d41b880>]"
     },
     "execution_count": 75,
     "metadata": {},
     "output_type": "execute_result"
    },
    {
     "data": {
      "text/plain": "<Figure size 640x480 with 1 Axes>",
      "image/png": "[encoded data removed]"
     },
     "metadata": {},
     "output_type": "display_data"
    }
   ],
   "source": [
    "plt.plot(x[10:],i001[10:])"
   ],
   "metadata": {
    "collapsed": false
   }
  },
  {
   "cell_type": "code",
   "execution_count": null,
   "outputs": [],
   "source": [],
   "metadata": {
    "collapsed": false
   }
  }
 ],
 "metadata": {
  "kernelspec": {
   "display_name": "Python 3",
   "language": "python",
   "name": "python3"
  },
  "language_info": {
   "codemirror_mode": {
    "name": "ipython",
    "version": 2
   },
   "file_extension": ".py",
   "mimetype": "text/x-python",
   "name": "python",
   "nbconvert_exporter": "python",
   "pygments_lexer": "ipython2",
   "version": "2.7.6"
  }
 },
 "nbformat": 4,
 "nbformat_minor": 0
}
